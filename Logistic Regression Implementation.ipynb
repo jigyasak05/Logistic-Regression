{
 "cells": [
  {
   "cell_type": "code",
   "execution_count": 15,
   "metadata": {},
   "outputs": [],
   "source": [
    "import numpy as np\n",
    "import math\n",
    "from sklearn.preprocessing import StandardScaler"
   ]
  },
  {
   "cell_type": "code",
   "execution_count": 16,
   "metadata": {},
   "outputs": [],
   "source": [
    "def sigmoid(x,m):\n",
    "    return 1 / (1 + math.exp(-x.dot(m)))"
   ]
  },
  {
   "cell_type": "code",
   "execution_count": 17,
   "metadata": {},
   "outputs": [],
   "source": [
    "def batch_step_gradient(x,y,learning_rate,m):\n",
    "    rows=x.shape[0]\n",
    "    col =x.shape[1]\n",
    "    slope_m=np.zeros(m.shape)\n",
    "    for i in range(rows):\n",
    "        slope_m+=(2/rows)*(sigmoid(x[i],m)-y[i])*x[i]\n",
    "    \n",
    "    m=m-learning_rate*slope_m\n",
    "    return m"
   ]
  },
  {
   "cell_type": "code",
   "execution_count": 18,
   "metadata": {},
   "outputs": [],
   "source": [
    "def cost(x,y,m):\n",
    "    cost=np.zeros(y.shape)\n",
    "    for i in range(x.shape[0]):\n",
    "        cost[i]=(sigmoid(x[i],m)-y[i])**2\n",
    "    return cost.mean()"
   ]
  },
  {
   "cell_type": "code",
   "execution_count": 19,
   "metadata": {},
   "outputs": [],
   "source": [
    "def gradient_descent(x,y,learning_rate,num_iter=1000):\n",
    "    m=np.zeros((x.shape[1],))\n",
    "    for i in range(num_iter):\n",
    "        m=batch_step_gradient(x,y,learning_rate,m)\n",
    "    return m"
   ]
  },
  {
   "cell_type": "code",
   "execution_count": 20,
   "metadata": {},
   "outputs": [],
   "source": [
    "def run(x,y):\n",
    "    learning_rate = 0.01\n",
    "    num_iter = 5000\n",
    "    ans = gradient_descent(x,y,learning_rate,num_iter)\n",
    "    return ans"
   ]
  },
  {
   "cell_type": "code",
   "execution_count": 22,
   "metadata": {},
   "outputs": [],
   "source": [
    "def predict(x, m):\n",
    "    y_pred=np.zeros(y.shape)\n",
    "    for i in range(x.shape[0]):\n",
    "        y_pred[i]=round(sigmoid(x[i],m))\n",
    "    return y_pred"
   ]
  }
 ],
 "metadata": {
  "kernelspec": {
   "display_name": "Python 3",
   "language": "python",
   "name": "python3"
  },
  "language_info": {
   "codemirror_mode": {
    "name": "ipython",
    "version": 3
   },
   "file_extension": ".py",
   "mimetype": "text/x-python",
   "name": "python",
   "nbconvert_exporter": "python",
   "pygments_lexer": "ipython3",
   "version": "3.7.1"
  }
 },
 "nbformat": 4,
 "nbformat_minor": 2
}
